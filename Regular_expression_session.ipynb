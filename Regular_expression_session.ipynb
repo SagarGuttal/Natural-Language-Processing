{
  "nbformat": 4,
  "nbformat_minor": 0,
  "metadata": {
    "colab": {
      "name": "Regular expression session.ipynb",
      "provenance": [],
      "collapsed_sections": [],
      "authorship_tag": "ABX9TyOqKwHOy21MXbcYDHvqdM8W",
      "include_colab_link": true
    },
    "kernelspec": {
      "name": "python3",
      "display_name": "Python 3"
    },
    "language_info": {
      "name": "python"
    }
  },
  "cells": [
    {
      "cell_type": "markdown",
      "metadata": {
        "id": "view-in-github",
        "colab_type": "text"
      },
      "source": [
        "<a href=\"https://colab.research.google.com/github/SagarGuttal/Natural-Language-Processing/blob/main/Regular_expression_session.ipynb\" target=\"_parent\"><img src=\"https://colab.research.google.com/assets/colab-badge.svg\" alt=\"Open In Colab\"/></a>"
      ]
    },
    {
      "cell_type": "code",
      "execution_count": 1,
      "metadata": {
        "id": "1NrgXEGpk6wt"
      },
      "outputs": [],
      "source": [
        "#regular expression library\n",
        "import re"
      ]
    },
    {
      "cell_type": "markdown",
      "source": [
        "writting regular expression :- https://regex101.com/"
      ],
      "metadata": {
        "id": "0AMzKNUllmRp"
      }
    },
    {
      "cell_type": "code",
      "source": [
        "chat1 = 'codebasics: you ask lot of questions 😠  1235678912, abc@xyz.com'\n",
        "chat2 = 'codebasics: here it is: (123)-567-8912, abc@xyz.com'\n",
        "chat3 = 'codebasics: yes, phone: 1235678912 email: abc@xyz.com'"
      ],
      "metadata": {
        "id": "5wKwN5yYl0go"
      },
      "execution_count": 3,
      "outputs": []
    },
    {
      "cell_type": "code",
      "source": [
        "#finding 10 digit number\n",
        "pattern = \"\\d{10}\"\n",
        "match_chat1 = re.findall(pattern, chat1)\n",
        "print(match_chat1[0])\n",
        "match_chat2 = re.findall(pattern, chat2)\n",
        "print(match_chat2)\n",
        "match_chat3 = re.findall(pattern, chat3)\n",
        "print(match_chat3[0])"
      ],
      "metadata": {
        "colab": {
          "base_uri": "https://localhost:8080/"
        },
        "id": "W503YxzCmnFA",
        "outputId": "b46d7223-ff1a-40c2-bc7d-df4347b3622b"
      },
      "execution_count": 11,
      "outputs": [
        {
          "output_type": "stream",
          "name": "stdout",
          "text": [
            "1235678912\n",
            "[]\n",
            "1235678912\n"
          ]
        }
      ]
    },
    {
      "cell_type": "code",
      "source": [
        "pattern = \"\\(\\d{3}\\)-\\d{3}-\\d{3}\"\n",
        "match_chat2 = re.findall(pattern, chat2)\n",
        "print(match_chat2[0])"
      ],
      "metadata": {
        "colab": {
          "base_uri": "https://localhost:8080/"
        },
        "id": "ZfqgIr2DnsIc",
        "outputId": "f49df5a3-ae44-4a71-9773-73edf020c0f0"
      },
      "execution_count": 12,
      "outputs": [
        {
          "output_type": "stream",
          "name": "stdout",
          "text": [
            "(123)-567-891\n"
          ]
        }
      ]
    },
    {
      "cell_type": "markdown",
      "source": [
        "## `Finding phone number`"
      ],
      "metadata": {
        "id": "WaJDL_LKthrM"
      }
    },
    {
      "cell_type": "code",
      "source": [
        "pattern = \"\\d{10}|\\(\\d{3}\\)-\\d{3}-\\d{4}\" # |-->or symbol fiading two expression\n",
        "match_chat1 = re.findall(pattern, chat1)\n",
        "print(match_chat1)\n",
        "match_chat2 = re.findall(pattern, chat2)\n",
        "print(match_chat2[0])\n",
        "match_chat3 = re.findall(pattern, chat3)\n",
        "print(match_chat3)"
      ],
      "metadata": {
        "colab": {
          "base_uri": "https://localhost:8080/"
        },
        "id": "UmCThOecqgZo",
        "outputId": "5b91c45a-5a64-49a9-eb88-351da74411ba"
      },
      "execution_count": 13,
      "outputs": [
        {
          "output_type": "stream",
          "name": "stdout",
          "text": [
            "['1235678912']\n",
            "(123)-567-8912\n",
            "['1235678912']\n"
          ]
        }
      ]
    },
    {
      "cell_type": "markdown",
      "source": [
        "# Finding E-mail in a string"
      ],
      "metadata": {
        "id": "-VIO39vQtn92"
      }
    },
    {
      "cell_type": "code",
      "source": [
        "pattern = \"[a-z0-9_A-Z]*@[a-zA-Z]*\\.com\"\n",
        "match_mail1 = re.findall(pattern, chat1)\n",
        "match_mail2 = re.findall(pattern, chat2)\n",
        "match_mail3 = re.findall(pattern, chat3)\n",
        "print(match_mail1[0])\n",
        "print(match_mail2[0])\n",
        "print(match_mail3[0])"
      ],
      "metadata": {
        "colab": {
          "base_uri": "https://localhost:8080/"
        },
        "id": "H9YTWQKsrnyQ",
        "outputId": "363ffa35-ae81-4d6e-b54a-25ad5845f239"
      },
      "execution_count": 17,
      "outputs": [
        {
          "output_type": "stream",
          "name": "stdout",
          "text": [
            "abc@xyz.com\n",
            "abc@xyz.com\n",
            "abc@xyz.com\n"
          ]
        }
      ]
    },
    {
      "cell_type": "markdown",
      "source": [
        "Finading order number also"
      ],
      "metadata": {
        "id": "RgcKzkq4u51l"
      }
    },
    {
      "cell_type": "code",
      "source": [
        "chat1='codebasics: Hello, I am having an issue with my order # 412889912'\n",
        "chat2='codebasics: I have a problem with my order number 412889912'\n",
        "chat3='codebasics: My order 412889912 is having an issue, I was charged 300$ when online it says 280$'\n",
        "\n",
        "pattern = \"order[^\\d]*(\\d*)\"\n",
        "order_num1 = re.findall(pattern, chat1)\n",
        "order_num2 = re.findall(pattern, chat2)\n",
        "order_num3 = re.findall(pattern, chat3)\n",
        "\n",
        "print(order_num1[0])\n",
        "print(order_num2[0])\n",
        "print(order_num3[0])"
      ],
      "metadata": {
        "colab": {
          "base_uri": "https://localhost:8080/"
        },
        "id": "3qjIrkdiuCf1",
        "outputId": "bdd796fc-823e-42ab-c5b5-8b2d77219a1d"
      },
      "execution_count": 20,
      "outputs": [
        {
          "output_type": "stream",
          "name": "stdout",
          "text": [
            "412889912\n",
            "412889912\n",
            "412889912\n"
          ]
        }
      ]
    },
    {
      "cell_type": "markdown",
      "source": [
        "**Regex for Information Extraction**"
      ],
      "metadata": {
        "id": "jRY8g0pp2Anx"
      }
    },
    {
      "cell_type": "code",
      "source": [
        "text='''\n",
        "Born\tElon Reeve Musk\n",
        "June 28, 1971 (age 50)\n",
        "Pretoria, Transvaal, South Africa\n",
        "Citizenship\t\n",
        "South Africa (1971–present)\n",
        "Canada (1971–present)\n",
        "United States (2002–present)\n",
        "Education\tUniversity of Pennsylvania (BS, BA)\n",
        "Title\t\n",
        "Founder, CEO and Chief Engineer of SpaceX\n",
        "CEO and product architect of Tesla, Inc.\n",
        "Founder of The Boring Company and X.com (now part of PayPal)\n",
        "Co-founder of Neuralink, OpenAI, and Zip2\n",
        "Spouse(s)\t\n",
        "Justine Wilson\n",
        "'''"
      ],
      "metadata": {
        "id": "VjvO9qDwwSOM"
      },
      "execution_count": 21,
      "outputs": []
    },
    {
      "cell_type": "code",
      "source": [
        "pattern = \"age (\\d*)\"\n",
        "\n",
        "age = re.findall(pattern, text)\n",
        "age"
      ],
      "metadata": {
        "colab": {
          "base_uri": "https://localhost:8080/"
        },
        "id": "K5ubhW6g2KDr",
        "outputId": "3133d25b-a619-44ac-b2c1-40fee601e9eb"
      },
      "execution_count": 22,
      "outputs": [
        {
          "output_type": "execute_result",
          "data": {
            "text/plain": [
              "['50']"
            ]
          },
          "metadata": {},
          "execution_count": 22
        }
      ]
    },
    {
      "cell_type": "code",
      "source": [
        "pattern = \"Born(.*)\\n\"\n",
        "\n",
        "name =re.findall(pattern, text)\n",
        "name[0].strip()"
      ],
      "metadata": {
        "colab": {
          "base_uri": "https://localhost:8080/",
          "height": 35
        },
        "id": "svXIQu7D3i9l",
        "outputId": "885cc0b3-e8e4-4e4a-bee1-bf5345693b5c"
      },
      "execution_count": 27,
      "outputs": [
        {
          "output_type": "execute_result",
          "data": {
            "text/plain": [
              "'Elon Reeve Musk'"
            ],
            "application/vnd.google.colaboratory.intrinsic+json": {
              "type": "string"
            }
          },
          "metadata": {},
          "execution_count": 27
        }
      ]
    },
    {
      "cell_type": "code",
      "source": [
        "pattern = \"Born.*\\n(.*)\"\n",
        "\n",
        "born_date = re.findall(pattern, text)\n",
        "born_date[0]"
      ],
      "metadata": {
        "colab": {
          "base_uri": "https://localhost:8080/",
          "height": 35
        },
        "id": "4C0EBcUa3-59",
        "outputId": "bed28782-094a-4baa-996a-25d974325bf0"
      },
      "execution_count": 28,
      "outputs": [
        {
          "output_type": "execute_result",
          "data": {
            "text/plain": [
              "'June 28, 1971 (age 50)'"
            ],
            "application/vnd.google.colaboratory.intrinsic+json": {
              "type": "string"
            }
          },
          "metadata": {},
          "execution_count": 28
        }
      ]
    },
    {
      "cell_type": "code",
      "source": [
        "pattern = \"age.*\\n(.*)\"\n",
        "\n",
        "birth_place = re.findall(pattern, text)\n",
        "birth_place[0]"
      ],
      "metadata": {
        "colab": {
          "base_uri": "https://localhost:8080/",
          "height": 35
        },
        "id": "ZqyV0VLI43m1",
        "outputId": "9dbcdcfb-eeae-4169-bb69-dff1b9fcd8ac"
      },
      "execution_count": 31,
      "outputs": [
        {
          "output_type": "execute_result",
          "data": {
            "text/plain": [
              "'Pretoria, Transvaal, South Africa'"
            ],
            "application/vnd.google.colaboratory.intrinsic+json": {
              "type": "string"
            }
          },
          "metadata": {},
          "execution_count": 31
        }
      ]
    },
    {
      "cell_type": "code",
      "source": [
        "def get_information(text):\n",
        "  age = re.findall(\"age (\\d*)\", text)\n",
        "  name =re.findall(\"Born(.*)\\n\", text)\n",
        "  born_date = re.findall(\"Born.*\\n(.*)\", text)\n",
        "  birth_place = re.findall(\"age.*\\n(.*)\", text)\n",
        "  return {\n",
        "      \"Age\":age[0],\n",
        "      \"Name\":name[0].strip(),\n",
        "      \"Birth date\":born_date[0],\n",
        "      \"Place\":birth_place[0]\n",
        "  }"
      ],
      "metadata": {
        "id": "1qq1Gkyi5nGs"
      },
      "execution_count": 34,
      "outputs": []
    },
    {
      "cell_type": "code",
      "source": [
        "information = get_information(text)\n",
        "information"
      ],
      "metadata": {
        "colab": {
          "base_uri": "https://localhost:8080/"
        },
        "id": "DsrnmHEE6l1g",
        "outputId": "e86aebfa-74e0-45b1-c3b0-99634ad03a0b"
      },
      "execution_count": 37,
      "outputs": [
        {
          "output_type": "execute_result",
          "data": {
            "text/plain": [
              "{'Age': '50',\n",
              " 'Birth date': 'June 28, 1971 (age 50)',\n",
              " 'Name': 'Elon Reeve Musk',\n",
              " 'Place': 'Pretoria, Transvaal, South Africa'}"
            ]
          },
          "metadata": {},
          "execution_count": 37
        }
      ]
    },
    {
      "cell_type": "code",
      "source": [
        "information[\"Age\"]"
      ],
      "metadata": {
        "colab": {
          "base_uri": "https://localhost:8080/",
          "height": 35
        },
        "id": "8FZ-jUHJ6oLV",
        "outputId": "3db9cf23-8427-4294-a809-79758a7f2fe5"
      },
      "execution_count": 39,
      "outputs": [
        {
          "output_type": "execute_result",
          "data": {
            "text/plain": [
              "'50'"
            ],
            "application/vnd.google.colaboratory.intrinsic+json": {
              "type": "string"
            }
          },
          "metadata": {},
          "execution_count": 39
        }
      ]
    },
    {
      "cell_type": "code",
      "source": [
        "information[\"Birth date\"]"
      ],
      "metadata": {
        "colab": {
          "base_uri": "https://localhost:8080/",
          "height": 35
        },
        "id": "0plcKGbt617J",
        "outputId": "b3b210af-4768-406e-ea92-65bf9a1c968b"
      },
      "execution_count": 40,
      "outputs": [
        {
          "output_type": "execute_result",
          "data": {
            "text/plain": [
              "'June 28, 1971 (age 50)'"
            ],
            "application/vnd.google.colaboratory.intrinsic+json": {
              "type": "string"
            }
          },
          "metadata": {},
          "execution_count": 40
        }
      ]
    },
    {
      "cell_type": "code",
      "source": [
        "information[\"Name\"]"
      ],
      "metadata": {
        "colab": {
          "base_uri": "https://localhost:8080/",
          "height": 35
        },
        "id": "9R6KhMt37CCT",
        "outputId": "e0bbb647-29f3-4f36-b57d-b139544b7a45"
      },
      "execution_count": 41,
      "outputs": [
        {
          "output_type": "execute_result",
          "data": {
            "text/plain": [
              "'Elon Reeve Musk'"
            ],
            "application/vnd.google.colaboratory.intrinsic+json": {
              "type": "string"
            }
          },
          "metadata": {},
          "execution_count": 41
        }
      ]
    },
    {
      "cell_type": "code",
      "source": [
        "information[\"Place\"]"
      ],
      "metadata": {
        "colab": {
          "base_uri": "https://localhost:8080/",
          "height": 35
        },
        "id": "1aHjOj5L7F78",
        "outputId": "a2a432c3-b78e-4051-ddd6-08e1a34abab9"
      },
      "execution_count": 42,
      "outputs": [
        {
          "output_type": "execute_result",
          "data": {
            "text/plain": [
              "'Pretoria, Transvaal, South Africa'"
            ],
            "application/vnd.google.colaboratory.intrinsic+json": {
              "type": "string"
            }
          },
          "metadata": {},
          "execution_count": 42
        }
      ]
    },
    {
      "cell_type": "code",
      "source": [
        ""
      ],
      "metadata": {
        "id": "d3WHXgSz7Ia7"
      },
      "execution_count": null,
      "outputs": []
    }
  ]
}